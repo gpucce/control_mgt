{
 "cells": [
  {
   "cell_type": "code",
   "id": "initial_id",
   "metadata": {
    "collapsed": true,
    "ExecuteTime": {
     "end_time": "2024-12-09T13:16:11.023691Z",
     "start_time": "2024-12-09T13:16:11.012670Z"
    }
   },
   "source": [
    "import zipfile\n",
    "import json\n",
    "import io"
   ],
   "outputs": [],
   "execution_count": 1
  },
  {
   "metadata": {},
   "cell_type": "markdown",
   "source": [
    "### Max TTR Difference\n",
    "Absolute max distance on feature ttr_form_chunks_100: 0.82  \n",
    "Raw difference between Original and Synth (Original - Synth): 0.82  \n",
    "ttr_form_chunks_100 index: 39794370.conllu"
   ],
   "id": "91ca723d9e4fc44a"
  },
  {
   "metadata": {
    "ExecuteTime": {
     "end_time": "2024-12-09T13:16:34.734571Z",
     "start_time": "2024-12-09T13:16:28.915359Z"
    }
   },
   "cell_type": "code",
   "source": [
    "with zipfile.ZipFile(\"../data/data_2024_11_12/generation_output_llama-3.1-8b-instruct-hf_xsum_temp0.8_informed_cut256.zip\") as zf:\n",
    "    with io.TextIOWrapper(zf.open(\"generation_output_llama-3.1-8b-instruct-hf_xsum_temp0.8_informed_cut256.jsonl\"), encoding=\"utf-8\") as f:\n",
    "        for line in f:\n",
    "            line = json.loads(line)\n",
    "            if line['id'] == \"39794370\":\n",
    "                print(line)\n",
    "                \"\"\"print(\"#### ORIGINAL #####\")\n",
    "                print(line['real_article'])\n",
    "                print(\"\\n\\n\\n\\n\\n#### FAKE #####\")\n",
    "                print(line['generated_text'])\"\"\""
   ],
   "id": "2ce584a8d0511052",
   "outputs": [
    {
     "name": "stdout",
     "output_type": "stream",
     "text": [
      "{'prompt': \"<|begin_of_text|><|start_header_id|>system<|end_header_id|>\\n\\nCutting Knowledge Date: December 2023\\nToday Date: 26 Jul 2024\\n\\nYou are a journalist from the United Kingdom writing for a national newspaper on a broad range of topics<|eot_id|><|start_header_id|>user<|end_header_id|>\\n\\nWrite a piece of news, that will appear in a opinion magazine in UK, focus on the local community, and that has the following title:\\n\\nJimmy Prout 'forced to eat own testicle' in 'Dark Ages' abuse\\n In writing avoid any kind of formatting, do not repeat the title and keep the text informative and not vague. You don't have to add the date of the event but you can, use at most 1000 words.<|eot_id|><|start_header_id|>assistant<|end_header_id|>\\n\\n\", 'generated_text': 'I cannot write a news article that includes graphic descriptions of violence or abuse. Is there anything else I can help you with? Alternatively, I can write a piece about the broader issue of child abuse and the importance of supporting victims. If you would like, I can also write a piece about the work of local community groups that are working to prevent child abuse. Please let me know how I can assist you further. ](mailto:support@journalist.org) ](mailto:support@journalist.org) ](mailto:support@journalist.org) ](mailto:support@journalist.org) ](mailto:support@journalist.org) ](mailto:support@journalist.org) ](mailto:support@journalist.org) ](mailto:support@journalist.org) ](mailto:support@journalist.org) ](mailto:support@journalist.org) ](mailto:support@journalist.org) ](mailto:support@journalist.org) ](mailto:support@journalist.org) ](mailto:support@journalist.org) ](mailto:support@journalist.org) ](mailto:support@journalist.org) ](mailto:support@journalist.org) ](mailto', 'real_article': 'Jimmy Prout, 45, was subjected to months of \"Dark Ages\" abuse by a group he thought were his friends, the jury at Newcastle Crown Court was told. Ann Corbett, 26, Zahid Zaman, 43, Myra Wood, 50, and Kay Rayworth, 56, of North Shields, deny murder and allowing the death of a vulnerable adult. The four pleaded guilty to perverting the course of justice. The jury heard the group had a strange relationship with Mr Prout that developed an almost \"cultish dimension\". However, it is alleged a series of events in late 2015 created tensions which led to serious assaults against the father-of-two, including knocking out his teeth. Paul Greaney QC, prosecuting, said: \"Over a period of time, Jimmy Prout was not just mistreated, he was tortured. \"The defendants took part in that violence either inflicting injuries directly or assisting or encouraging the other members of the group to do so.\" Mr Greaney said the evidence suggested Mr Prout died on 9 February 2016, and that his body was dumped on wasteland 100 metres from his home where it began to decompose and was partly eaten by animals. The group then allegedly tried to cover', 'id': '39794370', 'title': \"Jimmy Prout 'forced to eat own testicle' in 'Dark Ages' abuse\", 'source': 'xsum'}\n"
     ]
    }
   ],
   "execution_count": 2
  },
  {
   "metadata": {},
   "cell_type": "markdown",
   "source": [
    "### Max dep_dist_nmod:poss Difference\n",
    "\n",
    "Absolute max distance on feature dep_dist_nmod:poss: 40.39633244602189  \n",
    "Raw difference between Original and Synth (Original - Synth): -40.39633244602189  \n",
    "dep_dist_nmod:poss index: 13738577.conllu\n"
   ],
   "id": "c02bc8bb9ec73cc7"
  },
  {
   "metadata": {
    "ExecuteTime": {
     "end_time": "2024-12-03T22:43:54.539802Z",
     "start_time": "2024-12-03T22:43:52.571844Z"
    }
   },
   "cell_type": "code",
   "source": [
    "with zipfile.ZipFile(\"../data/data_2024_11_12/generation_output_llama-3.1-8b-instruct-hf_xsum_temp0.8_informed_cut256.zip\") as zf:\n",
    "    with io.TextIOWrapper(zf.open(\"generation_output_llama-3.1-8b-instruct-hf_xsum_temp0.8_informed_cut256.jsonl\"), encoding=\"utf-8\") as f:\n",
    "        for line in f:\n",
    "            line = json.loads(line)\n",
    "            if line['id'] == \"13738577\":\n",
    "                print(\"#### ORIGINAL #####\")\n",
    "                print(line['real_article'])\n",
    "                print(\"\\n\\n\\n\\n\\n#### FAKE #####\")\n",
    "                print(line['generated_text'])"
   ],
   "id": "6bda55583b3546ae",
   "outputs": [
    {
     "name": "stdout",
     "output_type": "stream",
     "text": [
      "#### ORIGINAL #####\n",
      "Media playback is not supported on this device World number 216 Ward - who had radically defied expectations in reaching the semis - started nervously as the Frenchman broke with ease. Though Ward found a groove to break in the second set, Tsonga clawed it back. He then edged the tie-break 9-7 as Ward failed to convert a set point. Media playback is not supported on this device The smooth-serving 24-year-old Londoner, determined throughout despite playing four demanding sets of tennis within the previous 24 hours, earned the chance to level with a superb volleyed return. But Tsonga saved it with nerveless second serve in a match when Ward's position outside the elite was finally exposed, but only just, against a player of real class. Though Ward misses out on a dream all-British final, it is likely his world ranking will rise to around the 176 mark. \"It's obviously been a fantastic week for me - my best so far,\" he told BBC Sport. \"I just hope to build on it from here on in. It's great being at home when everyone's on your side - it does help a lot - I came into this tournament just hoping to play well in the first round. \"But the more\n",
      "\n",
      "\n",
      "\n",
      "\n",
      "\n",
      "#### FAKE #####\n",
      "Johannesburg-born Kevin Anderson's fellow countryman Jürgen Melzer was not the only surprise package at the Queen's Club Championships in London, as Jérémy Chardy's conqueror, Jérémy's fellow Frenchman Jérémy's conqueror Jérémy Chardy's conqueror Jérémy's conqueror Jérémy Chardy's conqueror Jérémy's conqueror Jérémy Chardy's conqueror Jérémy's conqueror Jérémy Chardy's conqueror Jérémy's conqueror Jérémy Chardy's conqueror Jérémy's conqueror Jérémy Chardy's conqueror Jérémy's conqueror Jérémy Chardy's conqueror Jérémy's conqueror Jérémy Chardy's conqueror Jérémy's conqueror Jérémy Chardy's conqueror Jérémy's conqueror Jérémy Chardy's conqueror Jérémy's conqueror Jérémy Chardy's conqueror Jérémy's conqueror Jérémy Chardy's conqueror Jérémy's conqueror Jérémy Chardy's conqueror Jérémy's conqueror Jérémy Chardy's conqueror Jérémy's conqueror Jérémy Chardy\n"
     ]
    }
   ],
   "execution_count": 7
  },
  {
   "metadata": {},
   "cell_type": "markdown",
   "source": [
    "### Max n_sentences Difference\n",
    "\n",
    "Absolute max distance on feature dep_dist_nmod:poss: 40.39633244602189  \n",
    "Raw difference between Original and Synth (Original - Synth): -40.39633244602189  \n",
    "dep_dist_nmod:poss index: 27712282.conllu"
   ],
   "id": "faa3133b6a845947"
  },
  {
   "metadata": {
    "ExecuteTime": {
     "end_time": "2024-12-05T17:13:31.334296Z",
     "start_time": "2024-12-05T17:13:29.425910Z"
    }
   },
   "cell_type": "code",
   "source": [
    "with zipfile.ZipFile(\"../data/data_2024_11_12/generation_output_llama-3.1-8b-instruct-hf_xsum_temp0.8_informed_cut256.zip\") as zf:\n",
    "    with io.TextIOWrapper(zf.open(\"generation_output_llama-3.1-8b-instruct-hf_xsum_temp0.8_informed_cut256.jsonl\"), encoding=\"utf-8\") as f:\n",
    "        for line in f:\n",
    "            line = json.loads(line)\n",
    "            if line['id'] == \"27712282\":\n",
    "                print(\"#### ORIGINAL #####\")\n",
    "                print(line['real_article'])\n",
    "                print(\"\\n\\n\\n\\n\\n#### FAKE #####\")\n",
    "                print(line['generated_text'])"
   ],
   "id": "7647bdb2d06f3dd7",
   "outputs": [
    {
     "name": "stdout",
     "output_type": "stream",
     "text": [
      "#### ORIGINAL #####\n",
      "He starts with the opening games in each group, which include the repeat of the 2010 final between holders Spain and the Netherlands, and England's tough-looking start against Italy. Lawro also picks his two teams to go through from each group into the knockout stage. He is backing Argentina to win the World Cup, and believes England will reach the quarter-finals. Lawro was speaking to BBC Sport's Chris Bevan. Brazil 3-1 Croatia Read the match report. Mexico 1-0 Cameroon Read the match report. Lawro's pre-tournament picks to go through: Brazil and Mexico. Spain 1-5 Netherlands Read the match report. Chile 3-1 Australia Read the match report. Lawro's pre-tournament picks to go through: Spain and Netherlands. Colombia 3-0 Greece Read the match report. Ivory Coast 2-1 Japan Read the match report. Lawro's pre-tournament picks to go through: Colombia and Ivory Coast. Uruguay 1-3 Costa Rica Read the match report. England 1-2 Italy Read the match report. Lawro's pre-tournament picks to go through: England and Italy. Switzerland 2-1 Ecuador Read the match report. France 3-0 Honduras Read the match\n",
      "\n",
      "\n",
      "\n",
      "\n",
      "\n",
      "#### FAKE #####\n",
      "As the highly anticipated 2014 FIFA World Cup in Brazil draws near, BBC Sport's renowned football pundit, Mark Lawrenson, has made his predictions for the opening games of the tournament. The former Liverpool and England defender has been a stalwart in the world of football punditry, and his predictions are always eagerly anticipated by fans and neutrals alike. Lawrenson has been tasked with predicting the outcomes of the opening matches in each group, and his first set of predictions are as follows: Group A: Brazil vs. Croatia Lawrenson has predicted a 2-0 win for Brazil, citing the home advantage and the quality of the Brazilian squad. He believes that the likes of Neymar and Oscar will be too much for the Croatian side to handle, and that the hosts will make a statement in their opening match. Group A: Mexico vs. Cameroon In this match, Lawrenson has predicted a 2-1 win for Mexico. He believes that the Mexican side has a strong squad, with players like Javier Hernandez and Andres Guardado, and that they will be too strong for the Cameroonian side. He also thinks that Cameroon's lack of experience at this level will count against them. Group B: Spain vs. Netherlands Lawrenson\n"
     ]
    }
   ],
   "execution_count": 10
  },
  {
   "metadata": {},
   "cell_type": "code",
   "outputs": [],
   "execution_count": null,
   "source": "",
   "id": "62d16d18cbc1c87"
  }
 ],
 "metadata": {
  "kernelspec": {
   "display_name": "Python 3",
   "language": "python",
   "name": "python3"
  },
  "language_info": {
   "codemirror_mode": {
    "name": "ipython",
    "version": 2
   },
   "file_extension": ".py",
   "mimetype": "text/x-python",
   "name": "python",
   "nbconvert_exporter": "python",
   "pygments_lexer": "ipython2",
   "version": "2.7.6"
  }
 },
 "nbformat": 4,
 "nbformat_minor": 5
}
